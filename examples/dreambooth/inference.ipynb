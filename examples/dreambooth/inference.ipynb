{
 "cells": [
  {
   "cell_type": "code",
   "execution_count": null,
   "metadata": {
    "collapsed": true,
    "pycharm": {
     "is_executing": true
    }
   },
   "outputs": [],
   "source": [
    "from diffusers import StableDiffusionPipeline, DDIMScheduler, PNDMScheduler, LMSDiscreteScheduler\n",
    "import torch\n",
    "from PIL import Image\n",
    "\n",
    "def image_grid(imgs, rows, cols):\n",
    "    assert len(imgs) == rows*cols\n",
    "\n",
    "    w, h = imgs[0].size\n",
    "    grid = Image.new('RGB', size=(cols*w, rows*h))\n",
    "\n",
    "    for i, img in enumerate(imgs):\n",
    "        grid.paste(img, box=(i%cols*w, i//cols*h))\n",
    "    return grid\n",
    "\n",
    "\n",
    "model_id = \"./bunny_knightro/bunny_knightro_output/\"\n",
    "pipe = StableDiffusionPipeline.from_pretrained(model_id, torch_dtype=torch.float16).to(\"cuda\")\n",
    "#pipe.safety_checker = lambda images, clip_input: (images, False)\n",
    "pipe.scheduler = DDIMScheduler.from_config(pipe.scheduler.config)\n",
    "# pipe.scheduler = PNDMScheduler.from_config(pipe.scheduler.config)\n",
    "# pipe.scheduler = LMSDiscreteScheduler.from_config(pipe.scheduler.config)\n",
    "\n",
    "\n",
    "prompt = \"a picture of a zwx bunny toy and a sks knightro in a tree\"\n",
    "num_prompts = 8\n",
    "images = pipe([prompt] * num_prompts, num_inference_steps=100, guidance_scale=10).images\n",
    "for image_index, image in enumerate(images):\n",
    "    image.save(f\"./inference_outputs/{image_index}.png\")\n",
    "\n",
    "image_grid(images, num_prompts, 1)"
   ]
  }
 ],
 "metadata": {
  "kernelspec": {
   "display_name": "Python 3",
   "language": "python",
   "name": "python3"
  },
  "language_info": {
   "codemirror_mode": {
    "name": "ipython",
    "version": 2
   },
   "file_extension": ".py",
   "mimetype": "text/x-python",
   "name": "python",
   "nbconvert_exporter": "python",
   "pygments_lexer": "ipython2",
   "version": "2.7.6"
  }
 },
 "nbformat": 4,
 "nbformat_minor": 0
}
